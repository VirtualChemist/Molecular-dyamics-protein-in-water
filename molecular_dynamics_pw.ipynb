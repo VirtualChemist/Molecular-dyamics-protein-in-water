{
 "cells": [
  {
   "cell_type": "markdown",
   "metadata": {},
   "source": [
    "# Molecular dynamics tutorial: protein in water"
   ]
  },
  {
   "cell_type": "markdown",
   "metadata": {},
   "source": [
    "## Step 1: creando la topologia "
   ]
  },
  {
   "cell_type": "code",
   "execution_count": null,
   "metadata": {},
   "outputs": [],
   "source": [
    "%%bash\n",
    "gmx_mpi='/home/pitts/Documents/gromacs-2018.3/build/bin/./gmx_mpi'\n",
    "echo -e \"15\" | $gmx_mpi pdb2gmx -f protein.pdb -o protein.gro -water spce"
   ]
  },
  {
   "cell_type": "markdown",
   "metadata": {},
   "source": [
    "## Step 2: solvatar "
   ]
  },
  {
   "cell_type": "code",
   "execution_count": null,
   "metadata": {},
   "outputs": [],
   "source": [
    "%%bash\n",
    "gmx_mpi='/home/pitts/Documents/gromacs-2018.3/build/bin/./gmx_mpi'\n",
    "$gmx_mpi editconf -f protein.gro -o protein_newbox.gro -c -d 1.0 -bt cubic"
   ]
  },
  {
   "cell_type": "code",
   "execution_count": null,
   "metadata": {},
   "outputs": [],
   "source": [
    "!vmd gp50_newbox.gro"
   ]
  },
  {
   "cell_type": "code",
   "execution_count": null,
   "metadata": {},
   "outputs": [],
   "source": [
    "%%bash\n",
    "gmx_mpi='/home/pitts/Documents/gromacs-2018.3/build/bin/./gmx_mpi'\n",
    "$gmx_mpi solvate -cp protein_newbox.gro -cs spc216.gro -o protein_solv.gro -p topol.top"
   ]
  },
  {
   "cell_type": "code",
   "execution_count": null,
   "metadata": {},
   "outputs": [],
   "source": [
    "!vmd gp50_solv.gro"
   ]
  },
  {
   "cell_type": "code",
   "execution_count": null,
   "metadata": {},
   "outputs": [],
   "source": [
    "%%bash \n",
    "pip install gdown \n",
    "gdown https://drive.google.com/uc?id=1JVgz07QGz33vhmsWB5nAGGrHIGuwfeYE\n",
    "unzip mdp_files_only_water.zip && rm mdp_*"
   ]
  },
  {
   "cell_type": "markdown",
   "metadata": {},
   "source": [
    "## Step 3: agregando iones"
   ]
  },
  {
   "cell_type": "code",
   "execution_count": null,
   "metadata": {},
   "outputs": [],
   "source": [
    "%%bash\n",
    "gmx_mpi='/home/pitts/Documents/gromacs-2018.3/build/bin/./gmx_mpi'\n",
    "$gmx_mpi grompp -f ions.mdp -c protein_solv.gro -p topol.top -o ions.tpr"
   ]
  },
  {
   "cell_type": "code",
   "execution_count": null,
   "metadata": {},
   "outputs": [],
   "source": [
    "%%bash\n",
    "gmx_mpi='/home/pitts/Documents/gromacs-2018.3/build/bin/./gmx_mpi'\n",
    "echo -e \"13\"$ | $gmx_mpi genion -s ions.tpr -o protein_solv_ions.gro -p topol.top -pname NA -nname CL -neutral"
   ]
  },
  {
   "cell_type": "markdown",
   "metadata": {},
   "source": [
    "## Step 4: minimizacion"
   ]
  },
  {
   "cell_type": "code",
   "execution_count": null,
   "metadata": {},
   "outputs": [],
   "source": [
    "%%bash\n",
    "gmx_mpi='/home/pitts/Documents/gromacs-2018.3/build/bin/./gmx_mpi'\n",
    "$gmx_mpi grompp -f minim.mdp -c protein_solv_ions.gro -p topol.top -o em.tpr"
   ]
  },
  {
   "cell_type": "code",
   "execution_count": null,
   "metadata": {},
   "outputs": [],
   "source": [
    "%%bash\n",
    "gmx_mpi='/home/pitts/Documents/gromacs-2018.3/build/bin/./gmx_mpi'\n",
    "$gmx_mpi mdrun -v -nb gpu -deffnm em"
   ]
  },
  {
   "cell_type": "code",
   "execution_count": null,
   "metadata": {},
   "outputs": [],
   "source": [
    "%%bash\n",
    "gmx_mpi='/home/pitts/Documents/gromacs-2018.3/build/bin/./gmx_mpi'\n",
    "echo -e \"10\" | $gmx_mpi energy -f em.edr -o potential.xvg"
   ]
  },
  {
   "cell_type": "code",
   "execution_count": null,
   "metadata": {},
   "outputs": [],
   "source": [
    "!xmgrace potential.xvg"
   ]
  },
  {
   "cell_type": "markdown",
   "metadata": {},
   "source": [
    "# Step 5: equilibrando la temperatura"
   ]
  },
  {
   "cell_type": "code",
   "execution_count": null,
   "metadata": {},
   "outputs": [],
   "source": [
    "%%bash\n",
    "gmx_mpi='/home/pitts/Documents/gromacs-2018.3/build/bin/./gmx_mpi'\n",
    "$gmx_mpi grompp -f nvt.mdp -c em.gro -r em.gro -p topol.top -o nvt.tpr"
   ]
  },
  {
   "cell_type": "code",
   "execution_count": null,
   "metadata": {},
   "outputs": [],
   "source": [
    "%%bash\n",
    "gmx_mpi='/home/pitts/Documents/gromacs-2018.3/build/bin/./gmx_mpi'\n",
    "$gmx_mpi mdrun -v -nb gpu -deffnm nvt"
   ]
  },
  {
   "cell_type": "code",
   "execution_count": null,
   "metadata": {},
   "outputs": [],
   "source": [
    "%%bash\n",
    "gmx_mpi='/home/pitts/Documents/gromacs-2018.3/build/bin/./gmx_mpi'\n",
    "echo -e \"16\" | $gmx_mpi energy -f nvt.edr -o temperature.xvg"
   ]
  },
  {
   "cell_type": "code",
   "execution_count": null,
   "metadata": {},
   "outputs": [],
   "source": [
    "!xmgrace temperature.xvg "
   ]
  },
  {
   "cell_type": "markdown",
   "metadata": {},
   "source": [
    "# Step 6: equilibrando la presion"
   ]
  },
  {
   "cell_type": "code",
   "execution_count": null,
   "metadata": {},
   "outputs": [],
   "source": [
    "%%bash\n",
    "gmx_mpi='/home/pitts/Documents/gromacs-2018.3/build/bin/./gmx_mpi'\n",
    "$gmx_mpi grompp -f npt.mdp -c nvt.gro -r nvt.gro -t nvt.cpt -p topol.top -o npt.tpr"
   ]
  },
  {
   "cell_type": "code",
   "execution_count": null,
   "metadata": {},
   "outputs": [],
   "source": [
    "%%bash\n",
    "gmx_mpi='/home/pitts/Documents/gromacs-2018.3/build/bin/./gmx_mpi'\n",
    "$gmx_mpi mdrun -v -nb gpu -deffnm npt"
   ]
  },
  {
   "cell_type": "code",
   "execution_count": null,
   "metadata": {
    "scrolled": true
   },
   "outputs": [],
   "source": [
    "%%bash\n",
    "gmx_mpi='/home/pitts/Documents/gromacs-2018.3/build/bin/./gmx_mpi'\n",
    "echo -e \"18\" | $gmx_mpi energy -f npt.edr -o pressure.xvg"
   ]
  },
  {
   "cell_type": "code",
   "execution_count": null,
   "metadata": {},
   "outputs": [],
   "source": [
    "!xmgrace pressure.xvg"
   ]
  },
  {
   "cell_type": "markdown",
   "metadata": {},
   "source": [
    "# Step 7: produciendo la dinamica"
   ]
  },
  {
   "cell_type": "code",
   "execution_count": null,
   "metadata": {},
   "outputs": [],
   "source": [
    "%%bash\n",
    "gmx_mpi='/home/pitts/Documents/gromacs-2018.3/build/bin/./gmx_mpi'\n",
    "$gmx_mpi grompp -f md.mdp -c npt.gro -t npt.cpt -p topol.top -o md_0_1.tpr"
   ]
  },
  {
   "cell_type": "code",
   "execution_count": null,
   "metadata": {},
   "outputs": [],
   "source": [
    "%%bash\n",
    "gmx_mpi='/home/pitts/Documents/gromacs-2018.3/build/bin/./gmx_mpi'\n",
    "$gmx_mpi mdrun -v -nb gpu -deffnm md_0_1"
   ]
  },
  {
   "cell_type": "markdown",
   "metadata": {},
   "source": [
    "## Step 8: analizando los resultados"
   ]
  },
  {
   "cell_type": "code",
   "execution_count": null,
   "metadata": {},
   "outputs": [],
   "source": [
    "%%bash\n",
    "gmx=\"/home/pitts/Documents/gromacs-2018.3/build/bin/./gmx_mpi\"\n",
    "echo -e \"1\" | gmx trjconv -f md_0_1.xtc -s md_0_1.tpr -pbc mol -ur compact -center -o outputfile.xtc\n",
    "# Centrando las trajectorias"
   ]
  },
  {
   "cell_type": "code",
   "execution_count": null,
   "metadata": {},
   "outputs": [],
   "source": [
    "%%bash \n",
    "gmx=\"/home/pitts/Documents/gromacs-2018.3/build/bin/./gmx_mpi\"\n",
    "cat << EOF | $gmx rms -s md_0_1.tpr -f md_0_1.xtc -o rmsd.xvg -tu ns\n",
    "4\n",
    "4\n",
    "EOF\n",
    "# RMSD plot"
   ]
  },
  {
   "cell_type": "code",
   "execution_count": null,
   "metadata": {},
   "outputs": [],
   "source": [
    "!xmgrace rmsd.xvg"
   ]
  },
  {
   "cell_type": "code",
   "execution_count": null,
   "metadata": {},
   "outputs": [],
   "source": [
    "%%bash \n",
    "gmx=\"/home/pitts/Documents/gromacs-2018.3/build/bin/./gmx_mpi\"\n",
    "cat << EOF | $gmx rmsf -s md_0_1.tpr -f md_0_1.xtc -res -o rmsf.xvg\n",
    "4\n",
    "4\n",
    "EOF\n",
    "# RMSF plot"
   ]
  },
  {
   "cell_type": "code",
   "execution_count": null,
   "metadata": {},
   "outputs": [],
   "source": [
    "!xmgrace rmsf.xvg"
   ]
  },
  {
   "cell_type": "code",
   "execution_count": null,
   "metadata": {},
   "outputs": [],
   "source": [
    "%%bash \n",
    "gmx=\"/home/pitts/Documents/gromacs-2018.3/build/bin/./gmx_mpi\"\n",
    "echo -e '1' | $gmx trjconv -s md_0_1.tpr -f outputfile.xtc -dt 100 -o protein_centered.pdb\n",
    "# Trajectorias en pdb"
   ]
  },
  {
   "cell_type": "code",
   "execution_count": null,
   "metadata": {},
   "outputs": [],
   "source": [
    "!vmd trj.pdb"
   ]
  },
  {
   "cell_type": "markdown",
   "metadata": {},
   "source": [
    "## Step 9: extendiendo la dinamica molecular"
   ]
  },
  {
   "cell_type": "code",
   "execution_count": null,
   "metadata": {},
   "outputs": [],
   "source": [
    "%%bash \n",
    "gmx=\"/home/pitts/Documents/gromacs-2018.3/build/bin/./gmx_mpi\"\n",
    "$gmx convert-tpr -s md_0_1.tpr -extend 1000 -o md_0_2.tpr"
   ]
  },
  {
   "cell_type": "code",
   "execution_count": null,
   "metadata": {},
   "outputs": [],
   "source": [
    "%%bash\n",
    "gmx='/home/pitts/Documents/gromacs-2018.3/build/bin/./gmx_mpi'\n",
    "$gmx mdrun -v -nb gpu -deffnm md_0_2"
   ]
  },
  {
   "cell_type": "code",
   "execution_count": null,
   "metadata": {},
   "outputs": [],
   "source": [
    "%%bash\n",
    "gmx='/home/pitts/Documents/gromacs-2018.3/build/bin/./gmx_mpi'\n",
    "$gmx trjcat -f md_0_1.xtc md_0_2.xtc -o md_0_final.xtc -cat"
   ]
  }
 ],
 "metadata": {
  "kernelspec": {
   "display_name": "Python 3",
   "language": "python",
   "name": "python3"
  },
  "language_info": {
   "codemirror_mode": {
    "name": "ipython",
    "version": 3
   },
   "file_extension": ".py",
   "mimetype": "text/x-python",
   "name": "python",
   "nbconvert_exporter": "python",
   "pygments_lexer": "ipython3",
   "version": "3.7.4"
  }
 },
 "nbformat": 4,
 "nbformat_minor": 2
}
